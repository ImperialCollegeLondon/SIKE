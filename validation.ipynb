{
 "cells": [
  {
   "cell_type": "code",
   "execution_count": 1,
   "metadata": {},
   "outputs": [],
   "source": [
    "%matplotlib tk\n",
    "%load_ext autoreload\n",
    "%autoreload 2\n",
    "import SIKE\n",
    "import os\n",
    "import numpy as np\n",
    "import matplotlib.pyplot as plt\n",
    "import sk_plotting_functions as spf"
   ]
  },
  {
   "cell_type": "code",
   "execution_count": 2,
   "metadata": {},
   "outputs": [],
   "source": [
    "impzeff_opts = {'EVOLVE': True,\n",
    "                'SAVE': False,\n",
    "                'MODELLED SPECIES': ['C'],\n",
    "                'DELTA_T':1.0e5, \n",
    "                'RES_THRESH': 1e-10, \n",
    "                'MAX_STEPS': 1e4, \n",
    "                'T_SAVE': 1e6, \n",
    "                'FRAC_IMP_DENS': 0.05, \n",
    "                'COLL_ION_REC': True, \n",
    "                'RAD_REC': True, \n",
    "                'COLL_EX_DEEX': True, \n",
    "                'SPONT_EM': True, \n",
    "                'GS_ONLY': False, \n",
    "                'GS_ONLY_RADREC': False,\n",
    "                'COMPARE_ADAS': True}\n",
    "P_in = 64\n",
    "n_avg = 8\n",
    "run_dir = '/Users/dpower/Documents/01 - PhD/14 - ELM investigation/01 - Runs/01 - Equilibria/02 - Kinetic/P_in = ' + str(P_in) + 'MW/Output_job_EQ_K' + str(P_in) + '_' + str(n_avg) + 'e19'\n",
    "sktrun = spf.SKTRun(run_dir)"
   ]
  },
  {
   "cell_type": "code",
   "execution_count": 3,
   "metadata": {},
   "outputs": [
    {
     "name": "stdout",
     "output_type": "stream",
     "text": [
      "\n",
      "Initialising...\n"
     ]
    },
    {
     "name": "stderr",
     "output_type": "stream",
     "text": [
      "/Users/dpower/Documents/01 - PhD/01 - Code/08 - SIKE/input.py:236: RuntimeWarning: overflow encountered in exp\n",
      "  (np.exp(y) * scipy.special.exp1(y)) * (B - (C * y) + (0.5 * D * y * y) + (E/y)))\n",
      "/Users/dpower/Documents/01 - PhD/01 - Code/08 - SIKE/input.py:236: RuntimeWarning: invalid value encountered in double_scalars\n",
      "  (np.exp(y) * scipy.special.exp1(y)) * (B - (C * y) + (0.5 * D * y * y) + (E/y)))\n"
     ]
    },
    {
     "name": "stdout",
     "output_type": "stream",
     "text": [
      "Building rate matrices...\n",
      "Solving state densities...\n",
      "TIMESTEP 715 | RESIDUAL 9.88e-11\r"
     ]
    }
   ],
   "source": [
    "# Single ImpZeff run (SOLKIT)\n",
    "sp = SIKE.run(sktrun=sktrun,opts=impzeff_opts)\n",
    "impzeff_run = sp['C']"
   ]
  },
  {
   "cell_type": "code",
   "execution_count": 12,
   "metadata": {},
   "outputs": [
    {
     "name": "stdout",
     "output_type": "stream",
     "text": [
      "\n",
      "Initialising...\n",
      "Building rate matrices...\n"
     ]
    },
    {
     "name": "stderr",
     "output_type": "stream",
     "text": [
      "/Users/dpower/Documents/01 - PhD/01 - Code/08 - SIKE/input.py:236: RuntimeWarning: overflow encountered in exp\n",
      "  (np.exp(y) * scipy.special.exp1(y)) * (B - (C * y) + (0.5 * D * y * y) + (E/y)))\n",
      "/Users/dpower/Documents/01 - PhD/01 - Code/08 - SIKE/input.py:236: RuntimeWarning: invalid value encountered in double_scalars\n",
      "  (np.exp(y) * scipy.special.exp1(y)) * (B - (C * y) + (0.5 * D * y * y) + (E/y)))\n"
     ]
    },
    {
     "name": "stdout",
     "output_type": "stream",
     "text": [
      "Solving state densities...\n",
      "TIMESTEP 465 | RESIDUAL 9.89e-11\r"
     ]
    }
   ],
   "source": [
    "# Single ImpZeff run (ARRAYS)\n",
    "num_x = 250\n",
    "Te = np.geomspace(0.1,100.0,num_x)\n",
    "ne = np.geomspace(1e0,1e0,num_x)\n",
    "sp = SIKE.run(Te=Te,ne=ne,opts=impzeff_opts)\n",
    "impzeff_run = sp['C']"
   ]
  },
  {
   "cell_type": "code",
   "execution_count": 13,
   "metadata": {},
   "outputs": [],
   "source": [
    "impzeff_run.plot_dens(xaxis='Te',compare_adas=True,logx=True,plot_kin=False,normalise=True)\n",
    "# impzeff_run.plot_Zavg(compare_adas=True,plot_saha=False,logx=True,xaxis='Te')\n",
    "# impzeff_run.plot_ion_rates(compare_adas=True,plot_sk=False)\n",
    "# impzeff_run.plot_PLT(xaxis='Te',compare_adas=True,plot_stages=True,plot_eff=False,plot_sk=False,logx=True)\n",
    "# impzeff_run.plot_radiation(compare_adas=False, plot_sk=True, plot_max=True)"
   ]
  },
  {
   "cell_type": "code",
   "execution_count": 5,
   "metadata": {},
   "outputs": [],
   "source": []
  },
  {
   "cell_type": "code",
   "execution_count": 357,
   "metadata": {},
   "outputs": [],
   "source": [
    "fig,ax=plt.subplots(1)\n",
    "rr, _ = impzeff_run.get_radrec_E_rates(per_z=True)\n",
    "for z in range(7):\n",
    "    ax.plot(impzeff_run.Te*impzeff_run.Te, rr[:,z],label=str(z))\n",
    "    ax.legend()"
   ]
  },
  {
   "cell_type": "code",
   "execution_count": 371,
   "metadata": {},
   "outputs": [],
   "source": [
    "fig,ax = plt.subplots(1)\n",
    "dens = impzeff_run.dens\n",
    "zdens, _, _ = impzeff_run.get_z_dens()\n",
    "x = impzeff_run.Te*impzeff_run.T_norm\n",
    "# x = impzeff_run.xgrid\n",
    "for state in impzeff_run.states:\n",
    "    if state.iz == 0:\n",
    "    # if state.iz == 0 and state.statename=='2s2,2p1,3d1 1F':\n",
    "    # if state.iz == 0 and state.statename=='2s2,2p2 1D':\n",
    "        ax.plot(x,dens[:,state.loc]/zdens[:,0])\n",
    "# ax.plot(x,zdens[:,0],'--',color='black')\n",
    "ax.set_yscale('log')"
   ]
  },
  {
   "cell_type": "code",
   "execution_count": 370,
   "metadata": {},
   "outputs": [],
   "source": [
    "fig,ax = plt.subplots(1)\n",
    "for i in range(20,len(impzeff_run.iz_transitions)):\n",
    "    if impzeff_run.iz_transitions[i].from_state.iz == 0:\n",
    "        impzeff_run.iz_transitions[i].plot_cs(ax=ax,logx=True,logy=True)"
   ]
  },
  {
   "cell_type": "code",
   "execution_count": 236,
   "metadata": {},
   "outputs": [],
   "source": [
    "# impzeff_run.plot_ion_rates(compare_adas=True)\n",
    "impzeff_run.plot_rec_rates(compare_adas=True)"
   ]
  },
  {
   "cell_type": "code",
   "execution_count": 13,
   "metadata": {},
   "outputs": [],
   "source": [
    "import aurora\n",
    "\n",
    "adas_iz_file = aurora.adas_file('imp_data/Carbon/scd96_c.dat')\n",
    "adas_iz_file.plot()"
   ]
  },
  {
   "cell_type": "code",
   "execution_count": 109,
   "metadata": {},
   "outputs": [
    {
     "ename": "IndexError",
     "evalue": "list index out of range",
     "output_type": "error",
     "traceback": [
      "\u001b[0;31m---------------------------------------------------------------------------\u001b[0m",
      "\u001b[0;31mIndexError\u001b[0m                                Traceback (most recent call last)",
      "\u001b[0;32m/var/folders/j5/nll52f9s48lbvmzmmst91g6m0000gn/T/ipykernel_52794/2152881837.py\u001b[0m in \u001b[0;36m<module>\u001b[0;34m\u001b[0m\n\u001b[1;32m      3\u001b[0m \u001b[0mi\u001b[0m \u001b[0;34m=\u001b[0m \u001b[0;36m6\u001b[0m\u001b[0;34m\u001b[0m\u001b[0;34m\u001b[0m\u001b[0m\n\u001b[1;32m      4\u001b[0m \u001b[0mTe\u001b[0m \u001b[0;34m=\u001b[0m \u001b[0;36m100\u001b[0m \u001b[0;34m/\u001b[0m \u001b[0mimpzeff_run\u001b[0m\u001b[0;34m.\u001b[0m\u001b[0mT_norm\u001b[0m\u001b[0;34m\u001b[0m\u001b[0;34m\u001b[0m\u001b[0m\n\u001b[0;32m----> 5\u001b[0;31m \u001b[0mtrans\u001b[0m \u001b[0;34m=\u001b[0m \u001b[0mimpzeff_run\u001b[0m\u001b[0;34m.\u001b[0m\u001b[0miz_transitions\u001b[0m\u001b[0;34m[\u001b[0m\u001b[0mi\u001b[0m\u001b[0;34m]\u001b[0m\u001b[0;34m\u001b[0m\u001b[0;34m\u001b[0m\u001b[0m\n\u001b[0m\u001b[1;32m      6\u001b[0m \u001b[0mgrat\u001b[0m \u001b[0;34m=\u001b[0m \u001b[0mtrans\u001b[0m\u001b[0;34m.\u001b[0m\u001b[0mto_state\u001b[0m\u001b[0;34m.\u001b[0m\u001b[0mstatw\u001b[0m \u001b[0;34m/\u001b[0m \u001b[0mtrans\u001b[0m\u001b[0;34m.\u001b[0m\u001b[0mfrom_state\u001b[0m\u001b[0;34m.\u001b[0m\u001b[0mstatw\u001b[0m\u001b[0;34m\u001b[0m\u001b[0;34m\u001b[0m\u001b[0m\n\u001b[1;32m      7\u001b[0m \u001b[0miz_sigma\u001b[0m \u001b[0;34m=\u001b[0m \u001b[0mtrans\u001b[0m\u001b[0;34m.\u001b[0m\u001b[0msigma\u001b[0m\u001b[0;34m\u001b[0m\u001b[0;34m\u001b[0m\u001b[0m\n",
      "\u001b[0;31mIndexError\u001b[0m: list index out of range"
     ]
    }
   ],
   "source": [
    "import rates\n",
    "fig,ax = plt.subplots(1)\n",
    "i = 6\n",
    "Te = 100 / impzeff_run.T_norm\n",
    "trans = impzeff_run.iz_transitions[i]\n",
    "grat = trans.to_state.statw / trans.from_state.statw\n",
    "iz_sigma = trans.sigma \n",
    "tbrec_sigma = rates.sigma_tbrec(iz_sigma,grat,impzeff_run.vgrid/impzeff_run.v_th,Te,eps)\n",
    "Egrid = impzeff_run.T_norm * (impzeff_run.vgrid / impzeff_run.v_th) ** 2\n",
    "ax.plot(Egrid,iz_sigma)\n",
    "ax.plot(Egrid,tbrec_sigma,'--')\n",
    "ax.set_yscale('log')"
   ]
  },
  {
   "cell_type": "code",
   "execution_count": 307,
   "metadata": {},
   "outputs": [],
   "source": [
    "fig,ax = plt.subplots(1)"
   ]
  },
  {
   "cell_type": "code",
   "execution_count": 309,
   "metadata": {},
   "outputs": [
    {
     "data": {
      "text/plain": [
       "<matplotlib.legend.Legend at 0x13dffe4f0>"
      ]
     },
     "execution_count": 309,
     "metadata": {},
     "output_type": "execute_result"
    }
   ],
   "source": [
    "# Calculate ionization rate coefficient as function of T_e\n",
    "import rates\n",
    "ir = impzeff_run\n",
    "trans = ir.iz_transitions[18]\n",
    "\n",
    "sigma = trans.sigma\n",
    "label = str(trans.from_state.iz) + '+  ' + trans.from_state.statename + \\\n",
    "            ' -> ' + str(trans.to_state.iz) + \\\n",
    "            '+ ' + trans.to_state.statename + ''\n",
    "\n",
    "\n",
    "Te = np.geomspace(1.0,100,100) / ir.T_norm\n",
    "ne = 1e21 / ir.n_norm\n",
    "rate_coeffs = np.zeros(100)\n",
    "collrate_const = ir.n_norm * ir.v_th * ir.sigma_0 * ir.t_norm\n",
    "for i in range(100):\n",
    "    f0 = spf.maxwellian(Te[i],ne,ir.vgrid/ir.v_th)\n",
    "    \n",
    "    ne_loc = 4 * np.pi * np.sum(f0 * ((ir.vgrid/ir.v_th)**2) * (ir.dvc/ir.v_th))\n",
    "    \n",
    "    rate_coeffs[i] = collrate_const * rates.ion_rate(f0,ir.vgrid/ir.v_th,ir.dvc/ir.v_th,sigma) / ne_loc\n",
    "    rate_coeffs[i] /= (ir.t_norm * ir.n_norm)\n",
    "\n",
    "ax.plot(Te*ir.T_norm, 1e6*rate_coeffs,label=label)\n",
    "\n",
    "ax.set_yscale('log')\n",
    "ax.set_xlabel('$T_e$ [eV]')\n",
    "ax.set_ylabel('Rate coeff')\n",
    "ax.set_xscale('log')\n",
    "ax.grid()\n",
    "ax.legend()"
   ]
  },
  {
   "cell_type": "code",
   "execution_count": 310,
   "metadata": {},
   "outputs": [],
   "source": [
    "fig,ax = plt.subplots(1)"
   ]
  },
  {
   "cell_type": "code",
   "execution_count": 312,
   "metadata": {},
   "outputs": [
    {
     "data": {
      "text/plain": [
       "<matplotlib.legend.Legend at 0x151549370>"
      ]
     },
     "execution_count": 312,
     "metadata": {},
     "output_type": "execute_result"
    }
   ],
   "source": [
    "# Calculate three-body recombination rate coefficient as function of T_e\n",
    "import rates\n",
    "ir = impzeff_run\n",
    "\n",
    "trans = ir.iz_transitions[18]\n",
    "iz_sigma = trans.sigma\n",
    "label = str(trans.from_state.iz) + '+  ' + trans.from_state.statename + \\\n",
    "            ' -> ' + str(trans.to_state.iz) + \\\n",
    "            '+ ' + trans.to_state.statename + ''\n",
    "\n",
    "eps = trans.thresh / ir.T_norm\n",
    "grat = trans.to_state.statw / trans.from_state.statw\n",
    "\n",
    "Te = np.geomspace(1.0,100,100) / ir.T_norm\n",
    "ne = 1e19 / ir.n_norm\n",
    "rate_coeffs = np.zeros(100)\n",
    "collrate_const = ir.n_norm * ir.v_th * ir.sigma_0 * ir.t_norm\n",
    "tbrec_norm = ir.n_norm * np.sqrt((spf.planck_h ** 2) / (2 * np.pi *\n",
    "                                                                  spf.el_mass * ir.T_norm * spf.el_charge)) ** 3\n",
    "for i in range(100):\n",
    "    f0 = spf.maxwellian(Te[i],ne,ir.vgrid/ir.v_th)\n",
    "    \n",
    "    ne_loc = 4 * np.pi * np.sum(f0 * ((ir.vgrid/ir.v_th)**2) * (ir.dvc/ir.v_th))\n",
    "    \n",
    "    rate_coeffs[i] = collrate_const * tbrec_norm * rates.tbrec_rate(f0,Te[i],ir.vgrid/ir.v_th,ir.dvc/ir.v_th,eps,grat,iz_sigma) / ne_loc\n",
    "    rate_coeffs[i] /= (ir.t_norm * ir.n_norm)\n",
    "\n",
    "ax.plot(Te*ir.T_norm, 1e6*rate_coeffs,label=label)\n",
    "\n",
    "# #Compare adas\n",
    "# adas_rec_coeffs = ir.get_rec_rates_adas()\n",
    "# adas_iz_coeffs = ir.get_ion_rates_adas()\n",
    "# ax.plot(Te*ir.T_norm, 1e6*adas_rec_coeffs[:,0])\n",
    "\n",
    "ax.set_yscale('log')\n",
    "ax.set_xlabel('$T_e$ [eV]')\n",
    "ax.set_ylabel('Rate coeff')\n",
    "ax.set_xscale('log')\n",
    "ax.grid()\n",
    "ax.legend()"
   ]
  },
  {
   "cell_type": "code",
   "execution_count": 266,
   "metadata": {},
   "outputs": [],
   "source": [
    "ir=impzeff_run\n",
    "ion_rates, _ = ir.get_ion_rates()\n",
    "ion_rates_adas = ir.get_ion_rates_adas()\n",
    "zdens,_,_ = ir.get_z_dens()\n",
    "rec_rates,_ = ir.get_tbrec_rates()\n",
    "rec_rates_adas = ir.get_rec_rates_adas()\n",
    "z = 5\n",
    "fig,ax = plt.subplots(1)\n",
    "ax.plot(ir.Te*ir.T_norm,rec_rates[:,z]*((ir.ne)**2)*zdens[:,z+1],'-',label='S_rec')\n",
    "# ax.plot(ir.Te*ir.T_norm,rec_rates_adas[:,z]*((ir.ne)**2)*zdens[:,z+1], '--', label='S_rec adas')\n",
    "ax.plot(ir.Te*ir.T_norm,ion_rates[:,z]*ir.ne*zdens[:,z],label='S_ion')\n",
    "# ax.plot(ir.Te*ir.T_norm,ion_rates_adas[:,z]*ir.ne*zdens[:,z], '--', label='S_ion adas')\n",
    "ax.legend()\n",
    "ax.set_yscale('log')\n",
    "ax.set_xscale('log')\n",
    "ax.grid()"
   ]
  },
  {
   "cell_type": "code",
   "execution_count": null,
   "metadata": {},
   "outputs": [],
   "source": []
  }
 ],
 "metadata": {
  "interpreter": {
   "hash": "ac2eaa0ea0ebeafcc7822e65e46aa9d4f966f30b695406963e145ea4a91cd4fc"
  },
  "kernelspec": {
   "display_name": "Python 3.9.5 64-bit",
   "language": "python",
   "name": "python3"
  },
  "language_info": {
   "codemirror_mode": {
    "name": "ipython",
    "version": 3
   },
   "file_extension": ".py",
   "mimetype": "text/x-python",
   "name": "python",
   "nbconvert_exporter": "python",
   "pygments_lexer": "ipython3",
   "version": "3.9.12"
  },
  "orig_nbformat": 4
 },
 "nbformat": 4,
 "nbformat_minor": 2
}
