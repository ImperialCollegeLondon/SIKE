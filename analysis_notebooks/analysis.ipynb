{
 "cells": [
  {
   "cell_type": "code",
   "execution_count": null,
   "metadata": {},
   "outputs": [],
   "source": [
    "%matplotlib widget\n",
    "%load_ext autoreload\n",
    "%autoreload 2\n",
    "import sys\n",
    "import os\n",
    "import numpy as np\n",
    "import matplotlib.pyplot as plt\n",
    "import sk_plotting_functions as spf\n",
    "sys.path.insert(1, '../')\n",
    "import SIKE\n",
    "from post_processing import *\n",
    "import json\n",
    "import sike_plotting"
   ]
  },
  {
   "cell_type": "markdown",
   "metadata": {},
   "source": [
    "# Load in data"
   ]
  },
  {
   "cell_type": "code",
   "execution_count": null,
   "metadata": {},
   "outputs": [],
   "source": [
    "# Read in densities and create\n",
    "rundeck64 = spf.SKRundeck('/Users/dpower/Documents/01 - PhD/14 - ELM investigation/01 - Runs/01 - Equilibria/02 - Kinetic/P_in = 64MW',sort_by='density')\n",
    "rundeck128 = spf.SKRundeck('/Users/dpower/Documents/01 - PhD/15 - Reactor-relevant runs/02 - Kinetic',sort_by='density')\n",
    "rundecks = [rundeck128]\n",
    "powers = [64]\n",
    "# densities = [[4,5,6,7,8,9,10,12,15,18]]\n",
    "densities = [[2,3,10]]\n",
    "sike_outdir = os.path.join('/Users/dpower/Documents/01 - PhD/10 - Impurities/SIKE Output', el)\n",
    "# sikerun_names = [d for d in os.listdir(sike_outdir) if 'Output_RR_K_' in d]\n",
    "sikerun_names = [d for d in os.listdir(sike_outdir) if 'Output_job_EQ_K64' in d]\n",
    "sikeruns = []\n",
    "el = 'Be'\n",
    "for j,p in enumerate(powers):\n",
    "    for k, n in enumerate(densities[j]):\n",
    "        for i,sr in enumerate(sikerun_names):\n",
    "            if '_' + str(n) + 'e19' in sr:\n",
    "                skrun_name = sr\n",
    "                skrun_idx = i\n",
    "                break \n",
    "        # Initialise the SIKERun object\n",
    "        sikerun_dir = sikerun_names[skrun_idx]\n",
    "        solkitrun = rundecks[j].runs[k]\n",
    "        solkitrun.load_dist()\n",
    "        fe = solkitrun.data['DIST_F'][0] * solkitrun.n_norm / solkitrun.v_th ** 3\n",
    "        vgrid = solkitrun.vgrid\n",
    "        xgrid = solkitrun.xgrid\n",
    "        with open(os.path.join(sike_outdir,sikerun_dir,el+'_opts.json')) as f:\n",
    "            sike_opts = json.load(f)\n",
    "        sikerun = SIKE.SIKERun(xgrid=xgrid, fe=fe, vgrid=vgrid, opts = sike_opts)\n",
    "        \n",
    "        # Set the sikerun equilibrium densities\n",
    "        dens_file = os.path.join(sike_outdir,sikerun_dir,el+'_dens.txt')\n",
    "        dens_Max_file = os.path.join(sike_outdir,sikerun_dir,el+'_dens_Max.txt')\n",
    "        sikerun.impurities[el].dens = np.loadtxt(dens_file)\n",
    "        sikerun.impurities[el].dens_Max = np.loadtxt(dens_Max_file)\n",
    "        sikeruns.append(sikerun)\n",
    "        "
   ]
  },
  {
   "cell_type": "markdown",
   "metadata": {},
   "source": [
    "# Single run comparisons"
   ]
  },
  {
   "cell_type": "code",
   "execution_count": null,
   "metadata": {},
   "outputs": [],
   "source": [
    "r = sikeruns[-1]"
   ]
  },
  {
   "cell_type": "code",
   "execution_count": null,
   "metadata": {},
   "outputs": [],
   "source": [
    "# Compare Zavg\n",
    "sike_plotting.plot_Zavg(r,el)"
   ]
  },
  {
   "cell_type": "code",
   "execution_count": null,
   "metadata": {},
   "outputs": [],
   "source": [
    "# Compare Z dens\n",
    "sike_plotting.plot_Z_dens(r,el)"
   ]
  },
  {
   "cell_type": "code",
   "execution_count": null,
   "metadata": {},
   "outputs": [],
   "source": [
    "# Plot PLTs\n",
    "sike_plotting.plot_PLTs(r,el)"
   ]
  },
  {
   "cell_type": "code",
   "execution_count": null,
   "metadata": {},
   "outputs": [],
   "source": [
    "# Plot radiative losses\n",
    "sike_plotting.plot_rad_profile(r,el)"
   ]
  },
  {
   "cell_type": "code",
   "execution_count": null,
   "metadata": {},
   "outputs": [],
   "source": [
    "sikeruns[-1].opts['delta_t'] *= 100\n",
    "sikeruns[-1].run()"
   ]
  },
  {
   "cell_type": "code",
   "execution_count": null,
   "metadata": {},
   "outputs": [],
   "source": []
  }
 ],
 "metadata": {
  "kernelspec": {
   "display_name": "Python 3.10.6 64-bit",
   "language": "python",
   "name": "python3"
  },
  "language_info": {
   "codemirror_mode": {
    "name": "ipython",
    "version": 3
   },
   "file_extension": ".py",
   "mimetype": "text/x-python",
   "name": "python",
   "nbconvert_exporter": "python",
   "pygments_lexer": "ipython3",
   "version": "3.10.6"
  },
  "orig_nbformat": 4,
  "vscode": {
   "interpreter": {
    "hash": "8f9328efe3468e6c370cdfed98702d3986faf748314d5bcec59da615d65baa7a"
   }
  }
 },
 "nbformat": 4,
 "nbformat_minor": 2
}
