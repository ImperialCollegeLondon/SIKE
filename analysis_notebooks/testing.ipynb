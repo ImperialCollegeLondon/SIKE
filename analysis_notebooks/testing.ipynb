{
    "cells": [
        {
            "cell_type": "code",
            "execution_count": null,
            "metadata": {},
            "outputs": [],
            "source": [
                "%matplotlib tk\n",
                "%load_ext autoreload\n",
                "%autoreload 2\n",
                "import sys\n",
                "sys.path.insert(1,'..')\n",
                "import tools\n",
                "import os\n",
                "import SIKE2\n",
                "import numpy as np\n",
                "import matplotlib.pyplot as plt\n",
                "import sk_plotting_functions as spf\n",
                "from post_processing import *"
            ]
        },
        {
            "cell_type": "code",
            "execution_count": null,
            "metadata": {},
            "outputs": [],
            "source": [
                "skrun = spf.SKRun('/Users/dpower/Documents/01 - PhD/14 - ELM investigation/01 - Runs/01 - Equilibria/02 - Kinetic/P_in = 64MW/Output_job_EQ_K64_2e19')\n",
                "skrun.load_dist()\n",
                "f0 = skrun.data['DIST_F'][0] * skrun.n_norm / skrun.v_th ** 3\n",
                "Te = skrun.data['TEMPERATURE']  * skrun.T_norm\n",
                "ne = skrun.data['DENSITY']  * skrun.n_norm\n",
                "skvgrid = skrun.vgrid \n",
                "skxgrid = skrun.xgrid"
            ]
        },
        {
            "cell_type": "code",
            "execution_count": null,
            "metadata": {},
            "outputs": [],
            "source": [
                "el = 'Li'\n",
                "\n",
                "# max_x = -1\n",
                "# r = SIKE.SIKERun(xgrid=skxgrid[:max_x], fe=f0[:,:max_x], vgrid=skvgrid, opts={'modelled_impurities': ['He'], \n",
                "#                                                             'EVOLVE': True, \n",
                "#                                                             'ionization': True,\n",
                "#                                                             'radiative recombination': False,\n",
                "#                                                             'excitation': True,\n",
                "#                                                             'emission': False,\n",
                "#                                                             'autoionization': False,\n",
                "#                                                             'delta_t': 100.0,\n",
                "#                                                             'max_steps': 1, \n",
                "#                                                             'state_ids': None})\n",
                "num_x = 200\n",
                "r = SIKE2.SIKERun(xgrid=np.linspace(0,10,num_x), Te=np.geomspace(1.0,100,num_x), ne=1e18 * np.ones(num_x), opts={'modelled_impurities': [el], \n",
                "                                                            'EVOLVE': False, \n",
                "                                                            'ionization': True,\n",
                "                                                            'radiative recombination': True,\n",
                "                                                            'excitation': True,\n",
                "                                                            'emission': True,\n",
                "                                                            'autoionization': False,\n",
                "                                                            'delta_t': 100.0,\n",
                "                                                            'max_steps': 1, \n",
                "                                                            'state_ids': None})"
            ]
        },
        {
            "cell_type": "code",
            "execution_count": null,
            "metadata": {},
            "outputs": [],
            "source": [
                "r.run()"
            ]
        },
        {
            "cell_type": "code",
            "execution_count": null,
            "metadata": {},
            "outputs": [],
            "source": [
                "# Plot Z_avg\n",
                "n = r.impurities[el].dens_Max\n",
                "Zavg = get_Zavg(n,r.impurities[el].states, r.num_x)\n",
                "fig,ax = plt.subplots(1)\n",
                "ax.plot(r.Te*r.T_norm,Zavg)\n",
                "ax.grid()"
            ]
        },
        {
            "cell_type": "code",
            "execution_count": null,
            "metadata": {},
            "outputs": [],
            "source": [
                "# Plot all states on x grid\n",
                "n = r.impurities[el].dens_Max\n",
                "fig,ax = plt.subplots(1)\n",
                "for i in range(len(n[0,:])):\n",
                "    ax.plot(r.xgrid,n[:,i])\n",
                "# ax.set_yscale('log')"
            ]
        },
        {
            "cell_type": "code",
            "execution_count": null,
            "metadata": {},
            "outputs": [],
            "source": [
                "# Plot state distribution\n",
                "n = r.impurities[el].dens_Max\n",
                "x_pos = 0\n",
                "n_gnorm = np.zeros(r.impurities[el].tot_states)\n",
                "lev_E = np.zeros(r.impurities[el].tot_states)\n",
                "for i in range(r.impurities[el].tot_states):\n",
                "    n_gnorm[i] = n[x_pos,i] / r.impurities[el].states[i].stat_weight\n",
                "    lev_E[i] = r.impurities[el].states[i].energy\n",
                "fig,ax = plt.subplots(1)\n",
                "ax.plot(lev_E,n_gnorm)\n",
                "ax.set_yscale('log')"
            ]
        },
        {
            "cell_type": "markdown",
            "metadata": {},
            "source": [
                "# Compare rad-rec rates"
            ]
        },
        {
            "cell_type": "code",
            "execution_count": null,
            "metadata": {},
            "outputs": [],
            "source": [
                "# Compare radiative recombination rates\n",
                "import aurora\n",
                "import re\n",
                "import scipy.interpolate\n",
                "\n",
                "r = SIKE.SIKERun(xgrid=np.linspace(0,10,100), Te=np.linspace(1.0,10,100), ne=1e20 * np.ones(100), opts={'modelled_impurities': ['H'], \n",
                "                                                            'EVOLVE': True, \n",
                "                                                            'ionization': True,\n",
                "                                                            'radiative recombination': True,\n",
                "                                                            'excitation': True,\n",
                "                                                            'emission': True,\n",
                "                                                            'autoionization': True,\n",
                "                                                            'delta_t': 100000.0,\n",
                "                                                            'max_steps': 1000, \n",
                "                                                            'state_ids': [0,100]})\n",
                "r.run()\n",
                "\n",
                "rr_trans = r.impurities['H'].transitions[1]\n",
                "fac_radrec_rates = np.zeros(r.num_x)\n",
                "for i in range(r.num_x):\n",
                "    fac_radrec_rates[i] = rr_trans.get_mat_value(r.fe_Max[:,i],r.vgrid,r.dvc) / r.ne[i]"
            ]
        },
        {
            "cell_type": "code",
            "execution_count": null,
            "metadata": {},
            "outputs": [],
            "source": [
                "H_radrec_file = '/Users/dpower/Documents/01 - PhD/01 - Code/08 - SIKE/imp_data/Hydrogen/nrb05##_h1ls.dat'\n",
                "\n",
                "def lmom(l):\n",
                "    if l == '0':\n",
                "        return 'S'\n",
                "    elif l == '1':\n",
                "        return 'P'\n",
                "    elif l == '2':\n",
                "        return 'D'\n",
                "    elif l == '3':\n",
                "        return 'F'\n",
                "    elif l == '4':\n",
                "        return 'G'\n",
                "    elif l == '5':\n",
                "        return 'H'\n",
                "    elif l == '6':\n",
                "        return 'I'\n",
                "    elif l == '7':\n",
                "        return 'J'\n",
                "    elif l == '8':\n",
                "        return 'K'\n",
                "    elif l == '9':\n",
                "        return 'L'\n",
                "    elif l == '10':\n",
                "        return 'M'\n",
                "    elif l == '11':\n",
                "        return 'N'\n",
                "    elif l == '12':\n",
                "        return 'O'\n",
                "\n",
                "def get_adas_statename(line):\n",
                "    shell_re = re.findall('([123456789][SPDFGHIJKLMNOP][123456789])', line)\n",
                "    shell = (','.join(shell_re)).lower()\n",
                "    mom = re.search('\\(\\d\\)\\d\\(', line)\n",
                "    s = mom[0][1]\n",
                "    l = lmom(mom[0][3])\n",
                "    if shell == '':\n",
                "        return s + l\n",
                "    else:\n",
                "        return shell + ' ' + s + l\n",
                "\n",
                "def load_adas_radrec_rates(adas_file, from_state, to_state, T_norm, n_norm, t_norm):\n",
                "\n",
                "    with open(adas_file) as f:\n",
                "        lines = f.readlines()\n",
                "\n",
                "    # Get parent and child states\n",
                "    started_to = False\n",
                "    for i, l in enumerate(lines):\n",
                "        if 'PARENT TERM INDEXING' in l:\n",
                "            from_start = i+4\n",
                "        if 'LS RESOLVED TERM INDEXING' in l:\n",
                "            from_end = i-1\n",
                "            started_to = True\n",
                "            to_start = i+4\n",
                "        if started_to:\n",
                "            if l == ' \\n' or l == '\\n':\n",
                "                to_end = i\n",
                "                break\n",
                "    from_states = []\n",
                "    to_states = []\n",
                "    for l in lines[from_start:from_end]:\n",
                "        from_states.append(get_adas_statename(l))\n",
                "    for l in lines[to_start:to_end]:\n",
                "        to_states.append(get_adas_statename(l))\n",
                "\n",
                "    # Find the number of lines over which index / data points are written\n",
                "    for i, l in enumerate(lines):\n",
                "        if 'INDX TE=' in l and 'PRTI=' in lines[i-2]:\n",
                "            idx_line = i\n",
                "            break\n",
                "    for i, l in enumerate(lines[idx_line:]):\n",
                "        if l == '\\n' or l == ' \\n':\n",
                "            idx_end = i + idx_line\n",
                "            break\n",
                "    block = ''.join(lines[idx_line:idx_end])\n",
                "    ch_idx_re = re.findall('( \\d+ )', block)\n",
                "    num_ch = len(ch_idx_re)\n",
                "    lines_per_entry = int((idx_end - idx_line - 2) / num_ch)\n",
                "\n",
                "    for i, l in enumerate(lines):\n",
                "        if 'INDX TE=' in l and 'PRTI=' in lines[i-2]:\n",
                "            # TODO: What happens if the index is over 3 lines? Need to see an example for format\n",
                "            T_idx_lines = ' '.join(lines[i:i+lines_per_entry])\n",
                "            T_idx_matches = re.findall('(\\d.\\d+[ED][+-]\\d+)', T_idx_lines)\n",
                "            Te = np.array([float(T.replace('D', 'E')) for T in T_idx_matches])\n",
                "            break\n",
                "\n",
                "    K2eV = 11603.247217\n",
                "    Te = Te / (K2eV * T_norm)  # Convert to eV and normalise\n",
                "\n",
                "    # Get transitions\n",
                "    started_trans = False\n",
                "    from_trans = []\n",
                "    to_trans = []\n",
                "    for i, l in enumerate(lines):\n",
                "        if i > 4:\n",
                "            if 'INDX TE=' in l and 'PRTI=' in lines[i-2]:\n",
                "                started_trans = True\n",
                "                from_trans.append(i+2)\n",
                "            if started_trans:\n",
                "                if l == ' \\n' or l == '\\n':\n",
                "                    to_trans.append(i)\n",
                "                    started_trans = False\n",
                "    searching = True\n",
                "    for i, from_idx in enumerate(from_trans):\n",
                "        to_idx = to_trans[i]\n",
                "        parent_idx = i\n",
                "        if searching:\n",
                "            for j, l in enumerate(lines[from_idx:to_idx:lines_per_entry]):\n",
                "                child_idx = int(l.split()[0]) - 1\n",
                "                if from_states[parent_idx] == from_state and to_states[child_idx] == to_state:\n",
                "                    rate_data = (' '.join(lines[from_idx + j *\n",
                "                                                lines_per_entry:from_idx + (j+1)*lines_per_entry])).split()\n",
                "                    rates = np.array([float(r.replace('D', 'E'))\n",
                "                                     for r in rate_data[1:]])\n",
                "                    searching = False\n",
                "                    break\n",
                "    rates = rates * t_norm * n_norm * 1e-6  # Normalise\n",
                "\n",
                "    return rates, Te\n",
                "\n",
                "radrec_rate, radrec_Te = load_adas_radrec_rates(H_radrec_file, '1S', '1s1 2S', r.T_norm, r.n_norm, r.t_norm)\n",
                "radrec_interp = scipy.interpolate.interp1d(radrec_Te, radrec_rate, fill_value='extrapolate')\n",
                "\n",
                "adas_radrec_rates = np.zeros(r.num_x)\n",
                "for i,Te in enumerate(r.Te):\n",
                "    adas_radrec_rates[i] = max(radrec_interp(Te), 0.0)"
            ]
        },
        {
            "cell_type": "code",
            "execution_count": null,
            "metadata": {},
            "outputs": [],
            "source": [
                "fig,ax = plt.subplots(1)\n",
                "ax.plot(r.Te*r.T_norm, fac_radrec_rates)\n",
                "ax.plot(r.Te*r.T_norm, adas_radrec_rates)"
            ]
        },
        {
            "cell_type": "code",
            "execution_count": null,
            "metadata": {},
            "outputs": [],
            "source": [
                "el = 'He'\n",
                "cooling_curves = get_cooling_curves(r, el, kinetic=False)"
            ]
        },
        {
            "cell_type": "code",
            "execution_count": null,
            "metadata": {},
            "outputs": [],
            "source": [
                "fig,ax = plt.subplots(1)\n",
                "for z in range(2):\n",
                "    ax.plot(r.Te*r.T_norm,cooling_curves[:,z],label=z)\n",
                "ax.legend()\n",
                "ax.set_yscale('log')\n",
                "ax.set_xscale('log')\n",
                "ax.grid()"
            ]
        },
        {
            "cell_type": "code",
            "execution_count": null,
            "metadata": {},
            "outputs": [],
            "source": [
                "from petsc4py import PETSc\n",
                "import petsc4py\n",
                "petsc4py.init()"
            ]
        },
        {
            "cell_type": "code",
            "execution_count": null,
            "metadata": {},
            "outputs": [],
            "source": [
                "rate_mat = PETSc.Mat().createAIJ([1000, 1000], nnz=100)\n",
                "rate_mat.setValue(0,0,1.0,addv=True)"
            ]
        },
        {
            "cell_type": "code",
            "execution_count": null,
            "metadata": {},
            "outputs": [],
            "source": [
                "rate_mat.setValue(0,0,1.0,addv=True)"
            ]
        },
        {
            "cell_type": "code",
            "execution_count": null,
            "metadata": {},
            "outputs": [],
            "source": [
                "rate_mat.assemblyBegin()\n",
                "rate_mat.assemblyEnd()"
            ]
        },
        {
            "cell_type": "code",
            "execution_count": null,
            "metadata": {},
            "outputs": [],
            "source": [
                "rate_mat.getValue(0,0)"
            ]
        },
        {
            "cell_type": "code",
            "execution_count": null,
            "metadata": {},
            "outputs": [],
            "source": [
                "ksp = PETSc.KSP().create()"
            ]
        },
        {
            "cell_type": "code",
            "execution_count": null,
            "metadata": {},
            "outputs": [],
            "source": [
                "ksp.getConvergedReason()"
            ]
        },
        {
            "cell_type": "code",
            "execution_count": null,
            "metadata": {},
            "outputs": [],
            "source": []
        }
    ],
    "metadata": {
        "kernelspec": {
            "display_name": "Python 3.10.6 64-bit",
            "language": "python",
            "name": "python3"
        },
        "language_info": {
            "codemirror_mode": {
                "name": "ipython",
                "version": 3
            },
            "file_extension": ".py",
            "mimetype": "text/x-python",
            "name": "python",
            "nbconvert_exporter": "python",
            "pygments_lexer": "ipython3",
            "version": "3.10.6"
        },
        "orig_nbformat": 4,
        "vscode": {
            "interpreter": {
                "hash": "aee8b7b246df8f9039afb4144a1f6fd8d2ca17a180786b69acc140d282b71a49"
            }
        }
    },
    "nbformat": 4,
    "nbformat_minor": 2
}
