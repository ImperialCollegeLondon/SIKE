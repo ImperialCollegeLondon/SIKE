{
 "cells": [
  {
   "cell_type": "code",
   "execution_count": null,
   "metadata": {},
   "outputs": [],
   "source": [
    "%matplotlib widget\n",
    "%load_ext autoreload\n",
    "%autoreload 2"
   ]
  },
  {
   "cell_type": "markdown",
   "metadata": {},
   "source": [
    "# Initialise from temperature and density profiles"
   ]
  },
  {
   "cell_type": "code",
   "execution_count": 19,
   "metadata": {},
   "outputs": [
    {
     "name": "stdout",
     "output_type": "stream",
     "text": [
      " 100.0%\n",
      "Computing densities with Maxwellian electrons for Li...\n",
      "Evolving with: ibcgs , preconditioner:  bjacobi\n",
      "TIMESTEP 20 | max(dn/dt) 3.99e+21 | NUM_ITS 2            \n",
      "Conservation check on rank 0: 4.05e-08\n"
     ]
    }
   ],
   "source": [
    "import numpy as np\n",
    "import SIKE\n",
    "\n",
    "temp = np.linspace(1,10,50) # Temperature profile in eV\n",
    "dens = 1e19 * np.ones(50)   # Density profile in m^-3\n",
    "elements = ['Li']\n",
    "\n",
    "r = SIKE.SIKERun(Te=temp, ne=dens, opts={\"modelled_impurities\": elements})\n",
    "\n",
    "r. run()"
   ]
  },
  {
   "cell_type": "markdown",
   "metadata": {},
   "source": [
    "# Initialise from electron distributions"
   ]
  },
  {
   "cell_type": "code",
   "execution_count": 7,
   "metadata": {},
   "outputs": [
    {
     "name": "stdout",
     "output_type": "stream",
     "text": [
      "The autoreload extension is already loaded. To reload it, use:\n",
      "  %reload_ext autoreload\n",
      "Initialising the impurity species to be modelled...\n",
      " Initialising states...\n",
      " Initialising transitions...\n",
      "  Loading transitions from json...\n",
      "  Creating transition objects...\n",
      "  Creating data for inverse transitions...\n",
      "  Performing checks on transition data...\n",
      " Initialising densities...\n",
      " Finalising states...\n",
      "Finished initialising impurity species objects.\n",
      "Filling kinetic transition matrix for Li...\n",
      " 100.0%\n",
      "Computing densities with kinetic electrons for Li...\n",
      "Evolving with: ibcgs , preconditioner:  bjacobi\n",
      "TIMESTEP 20 | max(dn/dt) 3.21e+21 | NUM_ITS 2            \n",
      "Conservation check on rank 0: 1.64e-07\n"
     ]
    }
   ],
   "source": [
    "import numpy as np\n",
    "import SIKE\n",
    "import SIKE_tools\n",
    "\n",
    "num_x = 50\n",
    "T_hot = 100 * np.ones(num_x)     # Constant hot tail profile (eV)\n",
    "T_bulk = np.linspace(1,10,num_x) # Bulk temperature profile (eV)\n",
    "n_tot = 1e19 * np.ones(num_x)    # Constant total density profile (m^-3)\n",
    "hot_frac = 0.01                  # Hot tail is 1% of total density\n",
    "\n",
    "vgrid = SIKE_tools.default_vgrid\n",
    "fe = SIKE_tools.get_bimaxwellians(hot_frac * n_tot, (1 - hot_frac) * n_tot, T_hot, T_bulk, vgrid, normalised=False)\n",
    "\n",
    "elements = ['Li']\n",
    "\n",
    "r = SIKE.SIKERun(fe=fe, vgrid=vgrid, opts={\"modelled_impurities\": elements,\n",
    "                                           \"kinetic_electrons\": True,\n",
    "                                           \"maxwellian_electrons\": False})\n",
    "r.run()"
   ]
  }
 ],
 "metadata": {
  "kernelspec": {
   "display_name": "Python 3.10.6 64-bit",
   "language": "python",
   "name": "python3"
  },
  "language_info": {
   "codemirror_mode": {
    "name": "ipython",
    "version": 3
   },
   "file_extension": ".py",
   "mimetype": "text/x-python",
   "name": "python",
   "nbconvert_exporter": "python",
   "pygments_lexer": "ipython3",
   "version": "3.10.6"
  },
  "orig_nbformat": 4,
  "vscode": {
   "interpreter": {
    "hash": "8f9328efe3468e6c370cdfed98702d3986faf748314d5bcec59da615d65baa7a"
   }
  }
 },
 "nbformat": 4,
 "nbformat_minor": 2
}
