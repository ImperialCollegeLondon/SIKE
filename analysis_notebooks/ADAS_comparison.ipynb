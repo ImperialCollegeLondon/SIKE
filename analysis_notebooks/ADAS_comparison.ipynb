{
 "cells": [
  {
   "cell_type": "code",
   "execution_count": 3,
   "metadata": {},
   "outputs": [
    {
     "name": "stdout",
     "output_type": "stream",
     "text": [
      "The autoreload extension is already loaded. To reload it, use:\n",
      "  %reload_ext autoreload\n"
     ]
    }
   ],
   "source": [
    "%matplotlib widget\n",
    "%load_ext autoreload\n",
    "%autoreload 2\n",
    "import sys\n",
    "import os\n",
    "import numpy as np\n",
    "import matplotlib.pyplot as plt\n",
    "import sk_plotting_functions as spf\n",
    "sys.path.insert(1, '../')\n",
    "import SIKE\n",
    "sys.path.insert(1, '/Users/dpower/Documents/01 - PhD/01 - Code/08 - SIKE/legacy')\n",
    "import SIKE1\n",
    "from post_processing import *"
   ]
  },
  {
   "cell_type": "markdown",
   "metadata": {},
   "source": [
    "# Compare with ADAS"
   ]
  },
  {
   "cell_type": "code",
   "execution_count": 4,
   "metadata": {},
   "outputs": [],
   "source": [
    "el = 'He'\n",
    "num_x = 100\n",
    "xgrid = np.linspace(0,10,num_x)\n",
    "ne=1e19 * np.ones(num_x)\n",
    "Te=np.geomspace(1.0,100,num_x)"
   ]
  },
  {
   "cell_type": "code",
   "execution_count": null,
   "metadata": {},
   "outputs": [],
   "source": [
    "# SIKE 1 run\n",
    "sike_opts = {'EVOLVE': False,\n",
    "                'SAVE': False,\n",
    "                'SAVE_PATH': 'SIKE1_' + el,\n",
    "                'MODELLED SPECIES': [el],\n",
    "                'MODELLED_STATES': 'ground',\n",
    "                'DELTA_T': 1.0e8,\n",
    "                'RES_THRESH': 1e-12,\n",
    "                'MAX_STEPS': 1e5,\n",
    "                'T_SAVE': 1e6,\n",
    "                'FRAC_IMP_DENS': 0.05,\n",
    "                'COLL_ION_REC': True,\n",
    "                'RAD_REC': True,\n",
    "                'COLL_EX_DEEX': True,\n",
    "                'SPONT_EM': False,\n",
    "                'COMPARE_ADAS': True}\n",
    "sp = SIKE1.run(Te=Te,ne=ne,opts=sike_opts)\n",
    "r1 = sp[el]"
   ]
  },
  {
   "cell_type": "code",
   "execution_count": 6,
   "metadata": {},
   "outputs": [
    {
     "name": "stdout",
     "output_type": "stream",
     "text": [
      "Initialising the impurity species to be modelled...\n",
      " Initialising states...\n",
      " Initialising transitions...\n",
      "  Loading transitions from json...\n",
      "  Creating transition objects...\n",
      "  Creating data for inverse transitions...\n",
      "  Performing checks on transition data...\n",
      " Initialising densities...\n",
      " Finalising states...\n",
      "Finished initialising impurity species objects.\n",
      "Filling Maxwellian transition matrix for He...\n",
      " 100.0%\n",
      "Computing densities with Maxwellian electrons for He...\n",
      "Evolving with: ibcgs , preconditioner:  bjacobi\n",
      "TIMESTEP 1 | max(dn/dt) 5.00e+11 | NUM_ITS 63\n",
      "Conservation check on rank 0: 1.97e-07\n"
     ]
    }
   ],
   "source": [
    "# SIKE 2 run\n",
    "r2 = SIKE.SIKERun(xgrid=xgrid, Te=Te, ne=ne, opts={'modelled_impurities': [el], \n",
    "                                                            'evolve': True, \n",
    "                                                            'ionization': True,\n",
    "                                                            'radiative recombination': True,\n",
    "                                                            'excitation': True,\n",
    "                                                            'resolve_j': True,\n",
    "                                                            'emission': True,\n",
    "                                                            'autoionization': True,\n",
    "                                                            'delta_t': 1000000.0,\n",
    "                                                            'max_steps': 1000, \n",
    "                                                            'dndt_thresh': 1e16,\n",
    "                                                            'state_ids': None})\n",
    "r2.run()\n",
    "# r2.build_matrix()\n",
    "# r2.compute_densities(r2.opts['delta_t'],r2.opts['max_steps'], r2.opts['evolve'])"
   ]
  },
  {
   "cell_type": "code",
   "execution_count": null,
   "metadata": {},
   "outputs": [],
   "source": [
    "r2.compute_densities(r2.opts['delta_t']/100,r2.opts['max_steps'], r2.opts['evolve'])"
   ]
  },
  {
   "cell_type": "code",
   "execution_count": null,
   "metadata": {},
   "outputs": [],
   "source": [
    "print('Total evolved states (j-resolved): ' + str(r2.impurities[el].tot_states))\n",
    "print('Total transitions (j-resolved): ' + str(len(r2.impurities[el].transitions)))"
   ]
  },
  {
   "cell_type": "code",
   "execution_count": null,
   "metadata": {},
   "outputs": [],
   "source": [
    "# Compare Zavg\n",
    "r1.get_Zavg()\n",
    "Zavg_1 = r1.Zavg_adas\n",
    "Zavg_2_Max = get_Zavg(r2.impurities[el].dens_Max, r2.impurities[el].states, r2.num_x)\n",
    "\n",
    "fig,ax = plt.subplots(1)\n",
    "l,=ax.plot(Te,Zavg_1, '-.', color='black', label='ADAS')\n",
    "ax.plot(Te,Zavg_2_Max, color=l.get_color(), label='FAC (Max)')\n",
    "ax.legend()\n",
    "ax.set_xscale('log')\n",
    "ax.set_xlabel('$T_e$ [eV]')\n",
    "ax.set_ylabel('Average ionization')\n",
    "ax.set_title('Average ionization: ' +el)"
   ]
  },
  {
   "cell_type": "code",
   "execution_count": null,
   "metadata": {},
   "outputs": [],
   "source": [
    "# Compare Z dens\n",
    "num_Z = r1.num_z\n",
    "Z_dens_1 = r1.get_z_dens_adas()\n",
    "Z_dens_2_Max = get_Z_dens(r2.impurities[el].dens_Max, r2.impurities[el].states)\n",
    "\n",
    "fig,ax = plt.subplots(1)\n",
    "for Z in range(num_Z):\n",
    "    l, = ax.plot(Te, Z_dens_2_Max[:,Z]*r2.n_norm, label=el + '$^{' + str(Z) + '+}$')\n",
    "    ax.plot(Te, Z_dens_1[:,Z]*r1.n_norm,'-.',color=l.get_color())\n",
    "ax.plot([],[],color='black', label='FAC (Max)')\n",
    "ax.plot([],[],'-.',color='black', label='ADAS')\n",
    "ax.legend()\n",
    "ax.set_xscale('log')\n",
    "ax.set_xlabel('$T_e$ [eV]')\n",
    "ax.set_ylabel('Density [m$^{-3}$]')\n",
    "ax.set_title('Density profiles per ionization stage: ' + el)"
   ]
  },
  {
   "cell_type": "code",
   "execution_count": null,
   "metadata": {},
   "outputs": [],
   "source": [
    "# Plot PLTs\n",
    "PLT_1, _, _, PLT_1_eff = r1.get_adas_PLT()\n",
    "PLT_2_Max, PLT_2_Max_eff = get_cooling_curves(r2, el, kinetic=False)\n",
    "fig,ax = plt.subplots(1)\n",
    "for Z in range(r1.num_z-1):\n",
    "    l, = ax.plot(Te,PLT_2_Max[:,Z],label=el + '$^{' + str(Z) + '+}$')\n",
    "    ax.plot(Te,PLT_1[:,Z],'-.',color=l.get_color())\n",
    "ax.plot(Te,PLT_2_Max_eff,'-',color='black', label='Effective (FAC)')\n",
    "ax.plot(Te,PLT_1_eff,'-.',color='black', label='Effective (ADAS)')\n",
    "ax.set_yscale('log')\n",
    "ax.set_xscale('log')\n",
    "ax.set_xlabel('$T_e$ [eV]')\n",
    "ax.set_ylabel('Excitation radiation per ion [Wm$^3$]')\n",
    "# ax.set_ylim([1e-39,1e-30])\n",
    "ax.legend()\n",
    "ax.grid()\n",
    "ax.set_title('Cooling curves: ' + el)"
   ]
  },
  {
   "cell_type": "code",
   "execution_count": null,
   "metadata": {},
   "outputs": [],
   "source": [
    "# Plot radiative losses\n",
    "PLT_1, _, _, PLT_1_eff = r1.get_adas_PLT()\n",
    "Q_rad_1 = 1e-6 * PLT_1_eff * ne * np.sum(r1.dens_adas,1) * r1.n_norm\n",
    "PLT_2_Max, PLT_2_Max_eff = get_cooling_curves(r2, el, kinetic=False)\n",
    "Q_rad_2_Max = 1e-6 * PLT_2_Max_eff * ne * np.sum(r2.impurities[el].dens_Max,1) * r2.n_norm\n",
    "fig,ax = plt.subplots(1)\n",
    "l, = ax.plot(Te,Q_rad_2_Max,color='black',label='FAC (Max)')\n",
    "ax.plot(Te,Q_rad_1,'-.',color=l.get_color(), label='ADAS')\n",
    "ax.set_xlabel('$T_e$ [eV]')\n",
    "ax.set_ylabel('Excitation radiation [Wm$^{-3}$]')\n",
    "ax.legend()\n",
    "ax.grid()\n",
    "ax.set_title('Total line radiation profiles: ' + el)\n",
    "fig.tight_layout()"
   ]
  },
  {
   "cell_type": "markdown",
   "metadata": {},
   "source": [
    "# Compare fluid vs. kinetic"
   ]
  },
  {
   "cell_type": "code",
   "execution_count": null,
   "metadata": {},
   "outputs": [],
   "source": [
    "el = 'H'\n",
    "P_in = 64    # Input power [MW/m^2]\n",
    "n_avg = 10\n",
    "skip = 20\n",
    "max_x = None\n",
    "# run_dir = '/Users/dpower/Documents/01 - PhD/14 - ELM investigation/01 - Runs/01 - Equilibria/02 - Kinetic/P_in = ' + str(P_in) + 'MW/Output_job_EQ_K' + str(P_in) + '_' + str(n_avg) + 'e19'\n",
    "run_dir = '/Users/dpower/Documents/01 - PhD/15 - Reactor-relevant runs/02 - Kinetic/Output_RR_K_18e19'\n",
    "sktrun = spf.SKTRun(run_dir)\n",
    "xgrid = sktrun.xgrid[:max_x:skip]\n",
    "sktrun.load_dist()\n",
    "fe = sktrun.data['DIST_F'][0][:,:max_x:skip] * sktrun.n_norm / sktrun.v_th ** 3\n",
    "vgrid = sktrun.vgrid\n",
    "Te = sktrun.data['TEMPERATURE'][:max_x:skip] * sktrun.T_norm\n",
    "ne = sktrun.data['DENSITY'][:max_x:skip] * sktrun.n_norm"
   ]
  },
  {
   "cell_type": "code",
   "execution_count": null,
   "metadata": {},
   "outputs": [],
   "source": [
    "# SIKE 1 run\n",
    "sike_opts = {'EVOLVE': False,\n",
    "                'SAVE': False,\n",
    "                'SAVE_PATH': 'SIKE1_' + el,\n",
    "                'MODELLED SPECIES': [el],\n",
    "                'MODELLED_STATES': 'ground',\n",
    "                'DELTA_T': 1.0e8,\n",
    "                'RES_THRESH': 1e-12,\n",
    "                'MAX_STEPS': 1e5,\n",
    "                'T_SAVE': 1e6,\n",
    "                'FRAC_IMP_DENS': 0.05,\n",
    "                'COLL_ION_REC': True,\n",
    "                'RAD_REC': True,\n",
    "                'COLL_EX_DEEX': True,\n",
    "                'SPONT_EM': False,\n",
    "                'COMPARE_ADAS': True}\n",
    "sp = SIKE1.run(sktrun,opts=sike_opts)\n",
    "r1 = sp[el]"
   ]
  },
  {
   "cell_type": "code",
   "execution_count": null,
   "metadata": {},
   "outputs": [],
   "source": [
    "# SIKE 2 run\n",
    "r2 = SIKE.SIKERun(xgrid=xgrid, fe=fe, vgrid=vgrid, opts={'modelled_impurities': [el], \n",
    "                                                          'kinetic_electrons': True,\n",
    "                                                          'maxwellian_electrons': True,\n",
    "                                                          'evolve': False, \n",
    "                                                          'resolve_j': True,\n",
    "                                                          'ionization': True,\n",
    "                                                          'radiative recombination': True,\n",
    "                                                          'excitation': True,\n",
    "                                                          'emission': True,\n",
    "                                                          'autoionization': True,\n",
    "                                                          'delta_t': 10000.0,\n",
    "                                                          'max_steps': 10000, \n",
    "                                                          'frac_imp_dens': 1.0,\n",
    "                                                          'dndt_thresh': 1e16,\n",
    "                                                          'state_ids': None})\n",
    "r2.run()\n",
    "r2.build_matrix()\n",
    "r2.compute_densities(r2.opts['delta_t'],r2.opts['max_steps'], r2.opts['evolve'])"
   ]
  },
  {
   "cell_type": "code",
   "execution_count": null,
   "metadata": {},
   "outputs": [],
   "source": [
    "print('Total evolved states: ' + str(r2.impurities[el].tot_states))\n",
    "print('Total transitions: ' + str(len(r2.impurities[el].transitions)))"
   ]
  },
  {
   "cell_type": "code",
   "execution_count": null,
   "metadata": {},
   "outputs": [],
   "source": [
    "# Compare Zavg\n",
    "r1.get_Zavg()\n",
    "# Zavg_1 = r1.Zavg_adas\n",
    "Zavg_2_Max = get_Zavg(r2.impurities[el].dens_Max, r2.impurities[el].states, r2.num_x)\n",
    "Zavg_2_kin = get_Zavg(r2.impurities[el].dens, r2.impurities[el].states, r2.num_x)\n",
    "\n",
    "fig,ax = plt.subplots(1)\n",
    "l, = ax.plot(Te,Zavg_2_Max, color='black', label='FAC (Max)')\n",
    "ax.plot(Te,Zavg_2_kin, '--', color=l.get_color(),label='FAC (kin)')\n",
    "ax.legend()\n",
    "ax.set_xlabel('$T_e$ [eV]')\n",
    "ax.set_ylabel('Average ionization')\n",
    "ax.set_title('Average ionization: ' +el)"
   ]
  },
  {
   "cell_type": "code",
   "execution_count": null,
   "metadata": {},
   "outputs": [],
   "source": [
    "# Compare Z dens\n",
    "num_Z = r1.num_z\n",
    "Z_dens_2_Max = get_Z_dens(r2.impurities[el].dens_Max, r2.impurities[el].states)\n",
    "Z_dens_2_kin = get_Z_dens(r2.impurities[el].dens, r2.impurities[el].states)\n",
    "\n",
    "fig,ax = plt.subplots(1)\n",
    "for Z in range(num_Z):\n",
    "    l, = ax.plot(Te, Z_dens_2_Max[:,Z]*r2.n_norm, label=el + '$^{' + str(Z) + '+}$')\n",
    "    ax.plot(Te, Z_dens_2_kin[:,Z]*r2.n_norm, '--', color=l.get_color())\n",
    "ax.plot([],[],color='black', label='FAC (Max)')\n",
    "ax.plot([],[],'--',color='black', label='FAC (kin)')\n",
    "ax.legend()\n",
    "ax.set_xlabel('$T_e$ [eV]')\n",
    "ax.set_ylabel('Density [m$^{-3}$]')\n",
    "ax.set_title('Density profiles per ionization stage: ' + el)"
   ]
  },
  {
   "cell_type": "code",
   "execution_count": null,
   "metadata": {},
   "outputs": [],
   "source": [
    "# Plot PLTs\n",
    "PLT_2_Max, PLT_2_Max_eff = get_cooling_curves(r2, el, kinetic=False)\n",
    "PLT_2_kin, PLT_2_kin_eff = get_cooling_curves(r2, el, kinetic=True)\n",
    "fig,ax = plt.subplots(1)\n",
    "for Z in range(r1.num_z-1):\n",
    "    l, = ax.plot(Te,PLT_2_Max[:,Z],label=el + '$^{' + str(Z) + '+}$')\n",
    "    ax.plot(Te,PLT_2_kin[:,Z],'--',color=l.get_color())\n",
    "# ax.plot(Te,PLT_2_Max_eff,'-',color='black', label='FAC (Max)')\n",
    "# ax.plot(Te,PLT_2_kin_eff,'--',color='black', label='FAC (kin)')\n",
    "ax.set_yscale('log')\n",
    "ax.set_xscale('log')\n",
    "ax.set_xlabel('$T_e$ [eV]')\n",
    "ax.set_ylabel('Excitation radiation per ion [Wm$^3$]')\n",
    "ax.legend()\n",
    "ax.grid()\n",
    "ax.set_title('Cooling curves: ' + el)"
   ]
  },
  {
   "cell_type": "code",
   "execution_count": null,
   "metadata": {},
   "outputs": [],
   "source": [
    "# Plot radiative losses\n",
    "PLT_2_Max, PLT_2_Max_eff = get_cooling_curves(r2, el, kinetic=False)\n",
    "Q_rad_2_Max = 1e-6 * PLT_2_Max_eff * ne * np.sum(r2.impurities[el].dens_Max,1) * r2.n_norm\n",
    "PLT_2_kin, PLT_2_kin_eff = get_cooling_curves(r2, el, kinetic=True)\n",
    "Q_rad_2_kin = 1e-6 * PLT_2_kin_eff * ne * np.sum(r2.impurities[el].dens,1) * r2.n_norm\n",
    "fig,ax = plt.subplots(1)\n",
    "l, = ax.plot(r1.xgrid,Q_rad_2_Max,color='black',label='FAC (Max)')\n",
    "ax.plot(r1.xgrid,Q_rad_2_kin,'--',color=l.get_color(), label='FAC (kin)')\n",
    "ax.set_xlabel('x [m]')\n",
    "ax.set_ylabel('Excitation radiation [Wm$^{-3}$]')\n",
    "ax.legend()\n",
    "ax.grid()\n",
    "ax.set_title('Total line radiation profiles: ' + el)"
   ]
  },
  {
   "cell_type": "markdown",
   "metadata": {},
   "source": [
    "# Compare j-resolved vs. aggregated"
   ]
  },
  {
   "cell_type": "code",
   "execution_count": null,
   "metadata": {},
   "outputs": [],
   "source": [
    "el = 'Li'\n",
    "num_x = 50\n",
    "xgrid = np.linspace(0,1,num_x)\n",
    "ne=1e19 * np.ones(num_x)\n",
    "Te=np.geomspace(0.1,10,num_x)"
   ]
  },
  {
   "cell_type": "code",
   "execution_count": null,
   "metadata": {},
   "outputs": [],
   "source": [
    "# j-resolved\n",
    "r_nlj = SIKE2.SIKERun(xgrid=xgrid, Te=Te, ne=ne, opts={'modelled_impurities': [el], \n",
    "                                                            'evolve': True, \n",
    "                                                            'ionization': True,\n",
    "                                                            'radiative recombination': True,\n",
    "                                                            'excitation': True,\n",
    "                                                            'resolve_j': True,\n",
    "                                                            'emission': True,\n",
    "                                                            'autoionization': True,\n",
    "                                                            'delta_t': 100000.0,\n",
    "                                                            'max_steps': 1000, \n",
    "                                                            'dndt_thresh': 1e17,\n",
    "                                                            'state_ids': None})\n",
    "r_nlj.build_matrix()\n",
    "r_nlj.compute_densities(r_nlj.opts['delta_t'],r_nlj.opts['max_steps'], r_nlj.opts['evolve'])"
   ]
  },
  {
   "cell_type": "code",
   "execution_count": null,
   "metadata": {},
   "outputs": [],
   "source": [
    "# j-aggregated\n",
    "r_nl = SIKE2.SIKERun(xgrid=xgrid, Te=Te, ne=ne, opts={'modelled_impurities': [el], \n",
    "                                                            'evolve': True, \n",
    "                                                            'ionization': True,\n",
    "                                                            'radiative recombination': True,\n",
    "                                                            'excitation': True,\n",
    "                                                            'resolve_j': False,\n",
    "                                                            'emission': True,\n",
    "                                                            'autoionization': True,\n",
    "                                                            'delta_t': 100000.0,\n",
    "                                                            'max_steps': 1000, \n",
    "                                                            'dndt_thresh': 1e17,\n",
    "                                                            'state_ids': None})\n",
    "r_nl.run()\n",
    "# r_nl.build_matrix(kinetic=False)\n",
    "# r_nl.compute_densities(r_nl.opts['delta_t'],r_nl.opts['max_steps'], r_nl.opts['evolve'],kinetic=False)"
   ]
  },
  {
   "cell_type": "code",
   "execution_count": null,
   "metadata": {},
   "outputs": [],
   "source": [
    "print('Total evolved states, j-resolved: ' + str(r_nlj.impurities[el].tot_states) + ', j-aggregated: ' + str(r_nl.impurities[el].tot_states))\n",
    "print('Total transitions, j-resolved: ' + str(len(r_nlj.impurities[el].transitions)) + ', j-aggregated: ' + str(len(r_nl.impurities[el].transitions)))"
   ]
  },
  {
   "cell_type": "code",
   "execution_count": null,
   "metadata": {},
   "outputs": [],
   "source": [
    "# Compare Zavg\n",
    "Zavg_nlj = get_Zavg(r_nlj.impurities[el].dens_Max, r_nlj.impurities[el].states, r_nlj.num_x)\n",
    "Zavg_nl = get_Zavg(r_nl.impurities[el].dens_Max, r_nl.impurities[el].states, r_nl.num_x)\n",
    "\n",
    "fig,ax = plt.subplots(1)\n",
    "l, = ax.plot(Te,Zavg_nlj, color='red', label='j-resolved')\n",
    "ax.plot(Te,Zavg_nl, '--', color='blue',label='j-aggregated')\n",
    "ax.legend()\n",
    "ax.set_xlabel('$T_e$ [eV]')\n",
    "ax.set_ylabel('Average ionization')\n",
    "ax.set_title('Average ionization: ' +el)"
   ]
  },
  {
   "cell_type": "code",
   "execution_count": null,
   "metadata": {},
   "outputs": [],
   "source": [
    "# Compare Z dens\n",
    "num_Z = r_nlj.impurities[el].num_Z\n",
    "Z_dens_nlj = get_Z_dens(r_nlj.impurities[el].dens_Max, r_nlj.impurities[el].states)\n",
    "Z_dens_nl = get_Z_dens(r_nl.impurities[el].dens_Max, r_nl.impurities[el].states)\n",
    "\n",
    "fig,ax = plt.subplots(1)\n",
    "for Z in range(num_Z):\n",
    "    l, = ax.plot(Te, Z_dens_nlj[:,Z]*r_nlj.n_norm, label=el + '$^{' + str(Z) + '+}$')\n",
    "    ax.plot(Te, Z_dens_nl[:,Z]*r_nl.n_norm, '--', color=l.get_color())\n",
    "ax.plot([],[],color='black', label='j-resolved')\n",
    "ax.plot([],[],'--',color='black', label='j-aggregated')\n",
    "ax.legend()\n",
    "ax.set_xlabel('x [m]')\n",
    "ax.set_ylabel('Density [m$^{-3}$]')\n",
    "ax.set_title('Density profiles per ionization stage: ' + el)"
   ]
  },
  {
   "cell_type": "code",
   "execution_count": null,
   "metadata": {},
   "outputs": [],
   "source": [
    "# Plot PLTs\n",
    "PLT_nlj, PLT_nlj_eff = get_cooling_curves(r_nlj, el, kinetic=False)\n",
    "PLT_nl, PLT_nl_eff = get_cooling_curves(r_nl, el, kinetic=False)\n",
    "fig,ax = plt.subplots(1)\n",
    "for Z in range(r_nlj.impurities[el].num_Z-1):\n",
    "    l, = ax.plot(Te,PLT_nlj[:,Z],label=el + '$^{' + str(Z) + '+}$')\n",
    "    ax.plot(Te,PLT_nl[:,Z],'--',color=l.get_color())\n",
    "ax.plot(Te,PLT_nlj_eff,'-',color='black', label='j-resolved')\n",
    "ax.plot(Te,PLT_nl_eff,'--',color='black', label='j-aggregated')\n",
    "ax.set_yscale('log')\n",
    "ax.set_xscale('log')\n",
    "ax.set_xlabel('$T_e$ [eV]')\n",
    "# ax.set_ylim([1e-37,None])\n",
    "ax.set_ylabel('Excitation radiation per ion [Wm$^3$]')\n",
    "ax.legend()\n",
    "ax.grid()\n",
    "ax.set_title('Cooling curves: ' + el)"
   ]
  },
  {
   "cell_type": "code",
   "execution_count": null,
   "metadata": {},
   "outputs": [],
   "source": [
    "# Plot radiative losses\n",
    "PLT_nlj, PLT_nlj_eff = get_cooling_curves(r_nlj, el, kinetic=False)\n",
    "Q_rad_nlj = 1e-6 * PLT_nlj_eff * ne * np.sum(r_nlj.impurities[el].dens_Max,1) * r_nlj.n_norm\n",
    "PLT_nl, PLT_nl_eff = get_cooling_curves(r_nl, el, kinetic=False)\n",
    "Q_rad_nl = 1e-6 * PLT_nl_eff * ne * np.sum(r_nl.impurities[el].dens_Max,1) * r_nl.n_norm\n",
    "fig,ax = plt.subplots(1)\n",
    "l, = ax.plot(r_nlj.xgrid * r_nlj.x_norm,Q_rad_nlj,color='black',label='j-resolved')\n",
    "ax.plot(r_nl.xgrid * r_nlj.x_norm,Q_rad_nl,'--',color=l.get_color(), label='j-aggregated')\n",
    "ax.set_xlabel('x [m]')\n",
    "ax.set_ylabel('Excitation radiation [Wm$^{-3}$]')\n",
    "ax.legend()\n",
    "ax.grid()\n",
    "ax.set_title('Total line radiation profiles: ' + el)\n",
    "# ax.set_yscale('log')"
   ]
  },
  {
   "cell_type": "code",
   "execution_count": 5,
   "metadata": {},
   "outputs": [],
   "source": [
    "from petsc4py import PETSc\n",
    "import petsc4py"
   ]
  },
  {
   "cell_type": "code",
   "execution_count": 2,
   "metadata": {},
   "outputs": [],
   "source": [
    "rhs = PETSc.Vec().createMPI(1000)\n",
    "# rhs = PETSc.Vec().create(comm=None)"
   ]
  },
  {
   "cell_type": "code",
   "execution_count": 6,
   "metadata": {},
   "outputs": [],
   "source": [
    "ksp = PETSc.KSP().create()"
   ]
  },
  {
   "cell_type": "code",
   "execution_count": 9,
   "metadata": {},
   "outputs": [
    {
     "data": {
      "text/plain": [
       "(1e-05, 1e-50, 10000.0, 10000)"
      ]
     },
     "execution_count": 9,
     "metadata": {},
     "output_type": "execute_result"
    }
   ],
   "source": [
    "ksp.getTolerances()"
   ]
  },
  {
   "cell_type": "code",
   "execution_count": null,
   "metadata": {},
   "outputs": [],
   "source": [
    "rhs.assemblyBegin()\n",
    "rhs.assemblyEnd()"
   ]
  },
  {
   "cell_type": "code",
   "execution_count": null,
   "metadata": {},
   "outputs": [],
   "source": [
    "rhs.bindToCPU(0)"
   ]
  },
  {
   "cell_type": "code",
   "execution_count": null,
   "metadata": {},
   "outputs": [],
   "source": [
    "help(PETSc.Mat().createAIJ)"
   ]
  },
  {
   "cell_type": "code",
   "execution_count": null,
   "metadata": {},
   "outputs": [],
   "source": [
    "d1 = np.loadtxt('../gathered_dens_1_.txt')\n",
    "d2 = np.loadtxt('../gathered_dens_2_.txt')\n",
    "d4 = np.loadtxt('../gathered_dens_4_.txt')\n",
    "d8 = np.loadtxt('../gathered_dens_8_.txt')"
   ]
  },
  {
   "cell_type": "code",
   "execution_count": null,
   "metadata": {},
   "outputs": [],
   "source": [
    "fig,ax = plt.subplots(1)\n",
    "x = 10\n",
    "ax.plot(d1[x,:])\n",
    "ax.plot(d2[x,:])\n",
    "ax.plot(d4[x,:])\n",
    "ax.plot(d8[x,:])\n",
    "ax.set_yscale('log')"
   ]
  },
  {
   "cell_type": "code",
   "execution_count": null,
   "metadata": {},
   "outputs": [],
   "source": []
  }
 ],
 "metadata": {
  "kernelspec": {
   "display_name": "Python 3.10.6 64-bit",
   "language": "python",
   "name": "python3"
  },
  "language_info": {
   "codemirror_mode": {
    "name": "ipython",
    "version": 3
   },
   "file_extension": ".py",
   "mimetype": "text/x-python",
   "name": "python",
   "nbconvert_exporter": "python",
   "pygments_lexer": "ipython3",
   "version": "3.10.6"
  },
  "orig_nbformat": 4,
  "vscode": {
   "interpreter": {
    "hash": "8f9328efe3468e6c370cdfed98702d3986faf748314d5bcec59da615d65baa7a"
   }
  }
 },
 "nbformat": 4,
 "nbformat_minor": 2
}
